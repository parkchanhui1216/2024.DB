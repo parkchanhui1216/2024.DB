{
  "nbformat": 4,
  "nbformat_minor": 0,
  "metadata": {
    "colab": {
      "provenance": [],
      "authorship_tag": "ABX9TyPyp1ne19EgU8/tIkoUETX3",
      "include_colab_link": true
    },
    "kernelspec": {
      "name": "python3",
      "display_name": "Python 3"
    },
    "language_info": {
      "name": "python"
    }
  },
  "cells": [
    {
      "cell_type": "markdown",
      "metadata": {
        "id": "view-in-github",
        "colab_type": "text"
      },
      "source": [
        "<a href=\"https://colab.research.google.com/github/parkchanhui1216/2024.DB/blob/main/db%EA%B0%9C%EC%9D%B8%ED%94%84%EB%A1%9C%EC%A0%9D%ED%8A%B8.ipynb\" target=\"_parent\"><img src=\"https://colab.research.google.com/assets/colab-badge.svg\" alt=\"Open In Colab\"/></a>"
      ]
    },
    {
      "cell_type": "code",
      "execution_count": 1,
      "metadata": {
        "id": "6E8GeQiZozBI"
      },
      "outputs": [],
      "source": [
        "import sqlite3"
      ]
    },
    {
      "cell_type": "code",
      "source": [
        "conn = sqlite3.connect('project.db')\n",
        "print(\"Opened database successfully\")"
      ],
      "metadata": {
        "colab": {
          "base_uri": "https://localhost:8080/"
        },
        "id": "4bAbFtZTro2v",
        "outputId": "a01a9779-d67a-4e1e-b47c-a8fbac0702dc"
      },
      "execution_count": 2,
      "outputs": [
        {
          "output_type": "stream",
          "name": "stdout",
          "text": [
            "Opened database successfully\n"
          ]
        }
      ]
    },
    {
      "cell_type": "code",
      "source": [
        "cursor_obj = conn.cursor()"
      ],
      "metadata": {
        "id": "7UepRU2gryr3"
      },
      "execution_count": 3,
      "outputs": []
    },
    {
      "cell_type": "code",
      "source": [
        "cursor_obj.execute(\"DROP table if exists project\")"
      ],
      "metadata": {
        "colab": {
          "base_uri": "https://localhost:8080/"
        },
        "id": "qiyLksE_r33g",
        "outputId": "8d022c77-1186-47a7-98db-70e706a36426"
      },
      "execution_count": 16,
      "outputs": [
        {
          "output_type": "execute_result",
          "data": {
            "text/plain": [
              "<sqlite3.Cursor at 0x7ecfc9c4d540>"
            ]
          },
          "metadata": {},
          "execution_count": 16
        }
      ]
    },
    {
      "cell_type": "code",
      "source": [
        "table = \"\"\" CREATE TABLE IF NOT EXISTS project(ID INTEGER PRIMARY KEY NOT NULL, FNAME VARCHAR(20), LNAME VARCHAR(20), PHONE VARCHAR(20), POINT VARCHAR(20));\"\"\"\n",
        "\n",
        "cursor_obj.execute(table)\n",
        "print(\"Table is ready\")"
      ],
      "metadata": {
        "colab": {
          "base_uri": "https://localhost:8080/"
        },
        "id": "ob1e4SaIsHRp",
        "outputId": "5bfc2f95-4838-4e25-a37f-9c4a766b4c0f"
      },
      "execution_count": 17,
      "outputs": [
        {
          "output_type": "stream",
          "name": "stdout",
          "text": [
            "Table is ready\n"
          ]
        }
      ]
    },
    {
      "cell_type": "code",
      "source": [
        "cursor_obj.execute('''insert into project values(01, 'Chanhee', 'Park', '01046627297', '0점')''')"
      ],
      "metadata": {
        "colab": {
          "base_uri": "https://localhost:8080/"
        },
        "id": "VAHtOj8ZSVYu",
        "outputId": "f87b1285-a4b9-496e-b234-f1ce242a11f2"
      },
      "execution_count": 18,
      "outputs": [
        {
          "output_type": "execute_result",
          "data": {
            "text/plain": [
              "<sqlite3.Cursor at 0x7ecfc9c4d540>"
            ]
          },
          "metadata": {},
          "execution_count": 18
        }
      ]
    },
    {
      "cell_type": "code",
      "source": [
        "cursor_obj.execute('''insert into project values(02, 'Seungmin', 'Lee', '01012341232', '20점')''')"
      ],
      "metadata": {
        "colab": {
          "base_uri": "https://localhost:8080/"
        },
        "id": "wvDqtEkTSzT0",
        "outputId": "94119ea4-76a0-4d28-bf53-1fc385359117"
      },
      "execution_count": 19,
      "outputs": [
        {
          "output_type": "execute_result",
          "data": {
            "text/plain": [
              "<sqlite3.Cursor at 0x7ecfc9c4d540>"
            ]
          },
          "metadata": {},
          "execution_count": 19
        }
      ]
    },
    {
      "cell_type": "code",
      "source": [
        "cursor_obj.execute(\"DROP table if exists 'ORDER'\")"
      ],
      "metadata": {
        "colab": {
          "base_uri": "https://localhost:8080/"
        },
        "id": "ujk_uAA3VLvN",
        "outputId": "1d49bc48-26ac-442b-c4b7-4b1dd3abe26a"
      },
      "execution_count": 21,
      "outputs": [
        {
          "output_type": "execute_result",
          "data": {
            "text/plain": [
              "<sqlite3.Cursor at 0x7ecfc9c4d540>"
            ]
          },
          "metadata": {},
          "execution_count": 21
        }
      ]
    },
    {
      "cell_type": "code",
      "source": [
        "desk = \"\"\" CREATE TABLE IF NOT EXISTS 'order'(Pname varchar(20), Price varchar(20), location varchar(5));\"\"\"\n",
        "\n",
        "cursor_obj.execute(desk)\n",
        "\n",
        "print(\"Table is ready\")"
      ],
      "metadata": {
        "colab": {
          "base_uri": "https://localhost:8080/"
        },
        "id": "GkipA-ZMTCw5",
        "outputId": "0c4d2f1a-c698-456a-fc46-b43e729eb5b5"
      },
      "execution_count": 22,
      "outputs": [
        {
          "output_type": "stream",
          "name": "stdout",
          "text": [
            "Table is ready\n"
          ]
        }
      ]
    },
    {
      "cell_type": "code",
      "source": [
        "cursor_obj.execute('''insert into 'order' values('찹쌀호떡믹스', '4500원', 'H구역')''')"
      ],
      "metadata": {
        "colab": {
          "base_uri": "https://localhost:8080/"
        },
        "id": "ulhboFA7UHcC",
        "outputId": "537d05e1-dccb-4ae9-ea70-f80e0e953bf5"
      },
      "execution_count": 23,
      "outputs": [
        {
          "output_type": "execute_result",
          "data": {
            "text/plain": [
              "<sqlite3.Cursor at 0x7ecfc9c4d540>"
            ]
          },
          "metadata": {},
          "execution_count": 23
        }
      ]
    },
    {
      "cell_type": "code",
      "source": [
        "cursor_obj.execute('''insert into 'order' values('다이슨 청소기', '500,000원', 'E구역')''')"
      ],
      "metadata": {
        "colab": {
          "base_uri": "https://localhost:8080/"
        },
        "id": "q-TFIoNYVvIh",
        "outputId": "9f78cde4-9230-4625-bede-555221bfe7a8"
      },
      "execution_count": 24,
      "outputs": [
        {
          "output_type": "execute_result",
          "data": {
            "text/plain": [
              "<sqlite3.Cursor at 0x7ecfc9c4d540>"
            ]
          },
          "metadata": {},
          "execution_count": 24
        }
      ]
    },
    {
      "cell_type": "code",
      "source": [
        "statement = '''Select * from project'''\n",
        "cursor_obj.execute(statement)\n",
        "\n",
        "print(\"All the data\")\n",
        "output = cursor_obj.fetchall()\n",
        "for row in output:\n",
        "    print(row)"
      ],
      "metadata": {
        "colab": {
          "base_uri": "https://localhost:8080/"
        },
        "id": "9GT4cuSIV3m5",
        "outputId": "70ffe918-aff6-4b76-cdd6-952fc016561b"
      },
      "execution_count": 25,
      "outputs": [
        {
          "output_type": "stream",
          "name": "stdout",
          "text": [
            "All the data\n",
            "(1, 'Chanhee', 'Park', '01046627297', '0점')\n",
            "(2, 'Seungmin', 'Lee', '01012341232', '20점')\n"
          ]
        }
      ]
    },
    {
      "cell_type": "code",
      "source": [
        "statement = '''Select * from 'order' '''\n",
        "cursor_obj.execute(statement)\n",
        "\n",
        "print(\"All the data\")\n",
        "output = cursor_obj.fetchall()\n",
        "for row in output:\n",
        "    print(row)"
      ],
      "metadata": {
        "colab": {
          "base_uri": "https://localhost:8080/"
        },
        "id": "j7DW_4AcWD9S",
        "outputId": "469036a6-9ebd-4c75-e158-91f6118df698"
      },
      "execution_count": 26,
      "outputs": [
        {
          "output_type": "stream",
          "name": "stdout",
          "text": [
            "All the data\n",
            "('찹쌀호떡믹스', '4500원', 'H구역')\n",
            "('다이슨 청소기', '500,000원', 'E구역')\n"
          ]
        }
      ]
    },
    {
      "cell_type": "code",
      "source": [
        "#새로운 고객 추가\n",
        "cursor_obj.execute('''insert into project values(03, 'sangmyung', 'Blue', '01012341232', '40점')''')"
      ],
      "metadata": {
        "colab": {
          "base_uri": "https://localhost:8080/"
        },
        "id": "rSINV_T2WJCa",
        "outputId": "db49a81a-df81-4504-ef97-5cad107a0082"
      },
      "execution_count": 27,
      "outputs": [
        {
          "output_type": "execute_result",
          "data": {
            "text/plain": [
              "<sqlite3.Cursor at 0x7ecfc9c4d540>"
            ]
          },
          "metadata": {},
          "execution_count": 27
        }
      ]
    },
    {
      "cell_type": "code",
      "source": [
        "name_to_search = 'Chanhee'\n",
        "cursor_obj.execute(\"SELECT * FROM project WHERE fname = ?\", (name_to_search,))\n",
        "rows = cursor_obj.fetchall()\n",
        "for row in rows:\n",
        "    print(row)"
      ],
      "metadata": {
        "colab": {
          "base_uri": "https://localhost:8080/"
        },
        "id": "jC_WumCxWemA",
        "outputId": "6940e18f-48cf-4f96-c38d-bf283ffc986a"
      },
      "execution_count": 31,
      "outputs": [
        {
          "output_type": "stream",
          "name": "stdout",
          "text": [
            "(1, 'Chanhee', 'Park', '01046627297', '0점')\n"
          ]
        }
      ]
    },
    {
      "cell_type": "code",
      "source": [
        "cursor_obj.execute(\"DELETE FROM project WHERE ID = 2\")"
      ],
      "metadata": {
        "colab": {
          "base_uri": "https://localhost:8080/"
        },
        "id": "dVk-rkTxb5Of",
        "outputId": "532448d2-0585-4bf7-846c-70bbf022abc8"
      },
      "execution_count": 32,
      "outputs": [
        {
          "output_type": "execute_result",
          "data": {
            "text/plain": [
              "<sqlite3.Cursor at 0x7ecfc9c4d540>"
            ]
          },
          "metadata": {},
          "execution_count": 32
        }
      ]
    },
    {
      "cell_type": "code",
      "source": [
        "name_to_search = '다이슨 청소기'\n",
        "cursor_obj.execute(\"SELECT * FROM 'order' WHERE pname = ?\", (name_to_search,))\n",
        "rows = cursor_obj.fetchall()\n",
        "for row in rows:\n",
        "    print(row)"
      ],
      "metadata": {
        "colab": {
          "base_uri": "https://localhost:8080/"
        },
        "id": "fbtdF-Hvcr8F",
        "outputId": "8a6e2de3-824c-4666-df4b-4aebb72e9c5d"
      },
      "execution_count": 33,
      "outputs": [
        {
          "output_type": "stream",
          "name": "stdout",
          "text": [
            "('다이슨 청소기', '500,000원', 'E구역')\n"
          ]
        }
      ]
    },
    {
      "cell_type": "code",
      "source": [
        "cursor_obj.execute(\"DELETE FROM 'order' WHERE Pname = '다이슨 청소기'\")"
      ],
      "metadata": {
        "colab": {
          "base_uri": "https://localhost:8080/"
        },
        "id": "NdM-S6enczTJ",
        "outputId": "eaf47701-4d10-4122-e0e0-8232453dd0a0"
      },
      "execution_count": 34,
      "outputs": [
        {
          "output_type": "execute_result",
          "data": {
            "text/plain": [
              "<sqlite3.Cursor at 0x7ecfc9c4d540>"
            ]
          },
          "metadata": {},
          "execution_count": 34
        }
      ]
    },
    {
      "cell_type": "code",
      "source": [
        "statement = '''Select * from project'''\n",
        "cursor_obj.execute(statement)\n",
        "\n",
        "print(\"All the data\")\n",
        "output = cursor_obj.fetchall()\n",
        "for row in output:\n",
        "    print(row)"
      ],
      "metadata": {
        "colab": {
          "base_uri": "https://localhost:8080/"
        },
        "id": "QbsTuI3mc3j-",
        "outputId": "7e7f5a15-4698-4350-8263-da5365b0732c"
      },
      "execution_count": 35,
      "outputs": [
        {
          "output_type": "stream",
          "name": "stdout",
          "text": [
            "All the data\n",
            "(1, 'Chanhee', 'Park', '01046627297', '0점')\n",
            "(3, 'sangmyung', 'Blue', '01012341232', '40점')\n"
          ]
        }
      ]
    },
    {
      "cell_type": "code",
      "source": [
        "statement = '''Select * from 'order' '''\n",
        "cursor_obj.execute(statement)\n",
        "\n",
        "print(\"All the data\")\n",
        "output = cursor_obj.fetchall()\n",
        "for row in output:\n",
        "    print(row)\n",
        ""
      ],
      "metadata": {
        "colab": {
          "base_uri": "https://localhost:8080/"
        },
        "id": "mAEakdSzc6E9",
        "outputId": "a23f54bd-5215-4fcf-e915-7507017da6f1"
      },
      "execution_count": 36,
      "outputs": [
        {
          "output_type": "stream",
          "name": "stdout",
          "text": [
            "All the data\n",
            "('찹쌀호떡믹스', '4500원', 'H구역')\n"
          ]
        }
      ]
    },
    {
      "cell_type": "code",
      "source": [],
      "metadata": {
        "id": "4MSKxeTic9wK"
      },
      "execution_count": null,
      "outputs": []
    }
  ]
}