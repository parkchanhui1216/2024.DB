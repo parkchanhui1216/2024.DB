{
  "nbformat": 4,
  "nbformat_minor": 0,
  "metadata": {
    "colab": {
      "provenance": [],
      "authorship_tag": "ABX9TyM2jJUZyiOmsT056OKb1t16",
      "include_colab_link": true
    },
    "kernelspec": {
      "name": "python3",
      "display_name": "Python 3"
    },
    "language_info": {
      "name": "python"
    }
  },
  "cells": [
    {
      "cell_type": "markdown",
      "metadata": {
        "id": "view-in-github",
        "colab_type": "text"
      },
      "source": [
        "<a href=\"https://colab.research.google.com/github/parkchanhui1216/2024.DB/blob/main/dbproject.ipynb\" target=\"_parent\"><img src=\"https://colab.research.google.com/assets/colab-badge.svg\" alt=\"Open In Colab\"/></a>"
      ]
    },
    {
      "cell_type": "code",
      "execution_count": 1,
      "metadata": {
        "id": "TRUJnWu1eBpv"
      },
      "outputs": [],
      "source": [
        "import sqlite3"
      ]
    },
    {
      "cell_type": "code",
      "source": [
        "conn = sqlite3.connect('project.db')\n",
        "print(\"Opened database successfully\")"
      ],
      "metadata": {
        "colab": {
          "base_uri": "https://localhost:8080/"
        },
        "id": "46eNP5afeIoy",
        "outputId": "ba55ef1f-9d7f-4bae-cfa8-1757f02b6f3c"
      },
      "execution_count": 2,
      "outputs": [
        {
          "output_type": "stream",
          "name": "stdout",
          "text": [
            "Opened database successfully\n"
          ]
        }
      ]
    },
    {
      "cell_type": "code",
      "source": [
        "cursor_obj = conn.cursor()"
      ],
      "metadata": {
        "id": "NILj1S0YeNC3"
      },
      "execution_count": 3,
      "outputs": []
    },
    {
      "cell_type": "code",
      "source": [
        "cursor_obj.execute(\"DROP table if exists customer\")"
      ],
      "metadata": {
        "colab": {
          "base_uri": "https://localhost:8080/"
        },
        "id": "320i1UmWeeAW",
        "outputId": "17b45aef-8828-4a8e-e560-1d0b796d0655"
      },
      "execution_count": 4,
      "outputs": [
        {
          "output_type": "execute_result",
          "data": {
            "text/plain": [
              "<sqlite3.Cursor at 0x7d65ea673f40>"
            ]
          },
          "metadata": {},
          "execution_count": 4
        }
      ]
    },
    {
      "cell_type": "code",
      "source": [
        "table = \"\"\" CREATE TABLE IF NOT EXISTS customer(ID INTEGER PRIMARY KEY NOT NULL, FNAME VARCHAR(20), LNAME VARCHAR(20), PHONE VARCHAR(20), POINT VARCHAR(20), SELL_PRODUCT VARCHAR(20));\"\"\"\n",
        "\n",
        "cursor_obj.execute(table)\n",
        "print(\"Table is ready\")"
      ],
      "metadata": {
        "colab": {
          "base_uri": "https://localhost:8080/"
        },
        "id": "-OxWuWoeeiFq",
        "outputId": "131a5cd9-3d89-410f-a6ca-3d0f31bb944f"
      },
      "execution_count": 6,
      "outputs": [
        {
          "output_type": "stream",
          "name": "stdout",
          "text": [
            "Table is ready\n"
          ]
        }
      ]
    },
    {
      "cell_type": "code",
      "source": [
        "cursor_obj.execute('''insert into customer values(01, 'Chanhee', 'Park', '01046627297', '0점','한정판 패딩')''')"
      ],
      "metadata": {
        "colab": {
          "base_uri": "https://localhost:8080/"
        },
        "id": "O7fOcjONeoy7",
        "outputId": "13d12295-58f6-4582-f07c-0acd27cf81de"
      },
      "execution_count": 8,
      "outputs": [
        {
          "output_type": "execute_result",
          "data": {
            "text/plain": [
              "<sqlite3.Cursor at 0x7d65ea673f40>"
            ]
          },
          "metadata": {},
          "execution_count": 8
        }
      ]
    },
    {
      "cell_type": "code",
      "source": [
        "cursor_obj.execute('''insert into customer values(02, '길동', '홍', '01015487412', '0점','사인 야구 배트')''')\n",
        "cursor_obj.execute('''insert into customer values(03, '심청', '김', '01062589457', '120점','동전')''')\n",
        "cursor_obj.execute('''insert into customer values(04, '흥부', '박', '01048475197', '5000점','한정판 옷')''')"
      ],
      "metadata": {
        "colab": {
          "base_uri": "https://localhost:8080/"
        },
        "id": "TFhDlsQrfA57",
        "outputId": "d3531364-a4c2-4695-cadc-89b6ee027623"
      },
      "execution_count": 9,
      "outputs": [
        {
          "output_type": "execute_result",
          "data": {
            "text/plain": [
              "<sqlite3.Cursor at 0x7d65ea673f40>"
            ]
          },
          "metadata": {},
          "execution_count": 9
        }
      ]
    },
    {
      "cell_type": "code",
      "source": [
        "name_to_search = '길동'\n",
        "cursor_obj.execute(\"SELECT * FROM customer WHERE fname = ?\", (name_to_search,))\n",
        "rows = cursor_obj.fetchall()\n",
        "for row in rows:\n",
        "    print(row)"
      ],
      "metadata": {
        "colab": {
          "base_uri": "https://localhost:8080/"
        },
        "id": "ZjTzPrKcfbd2",
        "outputId": "e5112fb7-900e-4250-e125-cbff1ee2d54c"
      },
      "execution_count": 10,
      "outputs": [
        {
          "output_type": "stream",
          "name": "stdout",
          "text": [
            "(2, '길동', '홍', '01015487412', '0점', '사인 야구 배트')\n"
          ]
        }
      ]
    },
    {
      "cell_type": "code",
      "source": [
        "cursor_obj.execute(\"DELETE FROM customer WHERE ID = '03'\")"
      ],
      "metadata": {
        "colab": {
          "base_uri": "https://localhost:8080/"
        },
        "id": "JEax5qmvfqJz",
        "outputId": "f4cec6d2-1cc8-4168-ba26-40c9a589721d"
      },
      "execution_count": 11,
      "outputs": [
        {
          "output_type": "execute_result",
          "data": {
            "text/plain": [
              "<sqlite3.Cursor at 0x7d65ea673f40>"
            ]
          },
          "metadata": {},
          "execution_count": 11
        }
      ]
    },
    {
      "cell_type": "code",
      "source": [
        "statement = '''Select * from customer'''\n",
        "cursor_obj.execute(statement)\n",
        "\n",
        "print(\"All the data\")\n",
        "output = cursor_obj.fetchall()\n",
        "for row in output:\n",
        "    print(row)"
      ],
      "metadata": {
        "colab": {
          "base_uri": "https://localhost:8080/"
        },
        "id": "dgJv2EQggUe2",
        "outputId": "d569683d-5447-4db3-a20c-19fdf9c43afc"
      },
      "execution_count": 12,
      "outputs": [
        {
          "output_type": "stream",
          "name": "stdout",
          "text": [
            "All the data\n",
            "(1, 'Chanhee', 'Park', '01046627297', '0점', '한정판 패딩')\n",
            "(2, '길동', '홍', '01015487412', '0점', '사인 야구 배트')\n",
            "(4, '흥부', '박', '01048475197', '5000점', '한정판 옷')\n"
          ]
        }
      ]
    },
    {
      "cell_type": "code",
      "source": [
        "table = \"\"\" CREATE TABLE IF NOT EXISTS product (Pname varchar(20),SellerID integer , Sprice varchar(20), Iprice varchar(20));\"\"\"\n",
        "\n",
        "cursor_obj.execute(table)\n",
        "print(\"Table is ready\")"
      ],
      "metadata": {
        "colab": {
          "base_uri": "https://localhost:8080/"
        },
        "id": "d8gOm4RggZMq",
        "outputId": "2f86d52b-80cc-415e-9258-b5f4758eb601"
      },
      "execution_count": 34,
      "outputs": [
        {
          "output_type": "stream",
          "name": "stdout",
          "text": [
            "Table is ready\n"
          ]
        }
      ]
    },
    {
      "cell_type": "code",
      "source": [
        "cursor_obj.execute('''insert into product values('한정판 패딩', 01, '500,000만원', '2,500,000만원')''')\n",
        "cursor_obj.execute('''insert into product values('사인 야구 배트', 02, '250,000만원', '500,000만원')''')\n",
        "cursor_obj.execute('''insert into product values('한정판 옷', 04, '150,000만원', '1,000,000만원')''')"
      ],
      "metadata": {
        "colab": {
          "base_uri": "https://localhost:8080/"
        },
        "id": "rldunX8Kg0FM",
        "outputId": "41c6a31d-9c60-446d-9076-639143eb15dc"
      },
      "execution_count": 27,
      "outputs": [
        {
          "output_type": "execute_result",
          "data": {
            "text/plain": [
              "<sqlite3.Cursor at 0x7d65ea673f40>"
            ]
          },
          "metadata": {},
          "execution_count": 27
        }
      ]
    },
    {
      "cell_type": "code",
      "source": [
        "name_to_search = '한정판 패딩'\n",
        "cursor_obj.execute(\"SELECT * FROM product WHERE Pname = ?\", (name_to_search,))\n",
        "rows = cursor_obj.fetchall()\n",
        "for row in rows:\n",
        "    print(row)"
      ],
      "metadata": {
        "colab": {
          "base_uri": "https://localhost:8080/"
        },
        "id": "kqptuMZhhdlK",
        "outputId": "ab0f318d-ec3c-4466-bf78-af5f876d66a9"
      },
      "execution_count": 37,
      "outputs": [
        {
          "output_type": "stream",
          "name": "stdout",
          "text": [
            "('한정판 패딩', '1', '500,000만원', '2,500,000만원')\n",
            "('한정판 패딩', '1', '500,000만원', '2,500,000만원')\n",
            "('한정판 패딩', '1', '500,000만원', '2,500,000만원')\n"
          ]
        }
      ]
    },
    {
      "cell_type": "code",
      "source": [
        "cursor_obj.execute(\"DELETE FROM product WHERE pname = '한정판 패딩'\")"
      ],
      "metadata": {
        "colab": {
          "base_uri": "https://localhost:8080/"
        },
        "id": "oK-HdKAGhsG-",
        "outputId": "104982ce-1759-4c9a-9ecd-eeba7516d99f"
      },
      "execution_count": 38,
      "outputs": [
        {
          "output_type": "execute_result",
          "data": {
            "text/plain": [
              "<sqlite3.Cursor at 0x7d65ea673f40>"
            ]
          },
          "metadata": {},
          "execution_count": 38
        }
      ]
    },
    {
      "cell_type": "code",
      "source": [
        "statement = '''Select * from product'''\n",
        "cursor_obj.execute(statement)\n",
        "\n",
        "print(\"All the data\")\n",
        "output = cursor_obj.fetchall()\n",
        "for row in output:\n",
        "    print(row)"
      ],
      "metadata": {
        "colab": {
          "base_uri": "https://localhost:8080/"
        },
        "id": "0LiW-U96h_z1",
        "outputId": "2a7160ab-054d-4502-d1e2-fbccc687d6b2"
      },
      "execution_count": 39,
      "outputs": [
        {
          "output_type": "stream",
          "name": "stdout",
          "text": [
            "All the data\n",
            "('사인 야구 배트', '2', '250,000만원', '500,000만원')\n",
            "('한정판 옷', '4', '150,000만원', '1,000,000만원')\n",
            "('사인 야구 배트', '2', '250,000만원', '500,000만원')\n",
            "('한정판 옷', '4', '150,000만원', '1,000,000만원')\n",
            "('사인 야구 배트', '2', '250,000만원', '500,000만원')\n",
            "('한정판 옷', '4', '150,000만원', '1,000,000만원')\n"
          ]
        }
      ]
    },
    {
      "cell_type": "code",
      "source": [],
      "metadata": {
        "id": "OQQnIMnXi4UD"
      },
      "execution_count": null,
      "outputs": []
    }
  ]
}